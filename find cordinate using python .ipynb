{
 "cells": [
  {
   "cell_type": "code",
   "execution_count": 1,
   "id": "e6ec867a",
   "metadata": {},
   "outputs": [
    {
     "name": "stdout",
     "output_type": "stream",
     "text": [
      "Collecting geocoderNote: you may need to restart the kernel to use updated packages.\n",
      "\n",
      "  Downloading geocoder-1.38.1-py2.py3-none-any.whl (98 kB)\n",
      "     ---------------------------------------- 0.0/98.6 kB ? eta -:--:--\n",
      "     ---------------------------------------- 0.0/98.6 kB ? eta -:--:--\n",
      "     ---- ----------------------------------- 10.2/98.6 kB ? eta -:--:--\n",
      "     ----------- -------------------------- 30.7/98.6 kB 325.1 kB/s eta 0:00:01\n",
      "     ----------------------- -------------- 61.4/98.6 kB 409.6 kB/s eta 0:00:01\n",
      "     ------------------------------- ------ 81.9/98.6 kB 456.6 kB/s eta 0:00:01\n",
      "     -------------------------------------- 98.6/98.6 kB 469.9 kB/s eta 0:00:00\n",
      "Requirement already satisfied: click in c:\\users\\pc\\anaconda3\\lib\\site-packages (from geocoder) (8.0.4)\n",
      "Requirement already satisfied: future in c:\\users\\pc\\anaconda3\\lib\\site-packages (from geocoder) (0.18.3)\n",
      "Collecting ratelim (from geocoder)\n",
      "  Downloading ratelim-0.1.6-py2.py3-none-any.whl (4.0 kB)\n",
      "Requirement already satisfied: requests in c:\\users\\pc\\anaconda3\\lib\\site-packages (from geocoder) (2.31.0)\n",
      "Requirement already satisfied: six in c:\\users\\pc\\anaconda3\\lib\\site-packages (from geocoder) (1.16.0)\n",
      "Requirement already satisfied: colorama in c:\\users\\pc\\anaconda3\\lib\\site-packages (from click->geocoder) (0.4.6)\n",
      "Requirement already satisfied: decorator in c:\\users\\pc\\anaconda3\\lib\\site-packages (from ratelim->geocoder) (5.1.1)\n",
      "Requirement already satisfied: charset-normalizer<4,>=2 in c:\\users\\pc\\anaconda3\\lib\\site-packages (from requests->geocoder) (2.0.4)\n",
      "Requirement already satisfied: idna<4,>=2.5 in c:\\users\\pc\\anaconda3\\lib\\site-packages (from requests->geocoder) (3.4)\n",
      "Requirement already satisfied: urllib3<3,>=1.21.1 in c:\\users\\pc\\anaconda3\\lib\\site-packages (from requests->geocoder) (1.26.16)\n",
      "Requirement already satisfied: certifi>=2017.4.17 in c:\\users\\pc\\anaconda3\\lib\\site-packages (from requests->geocoder) (2023.7.22)\n",
      "Installing collected packages: ratelim, geocoder\n",
      "Successfully installed geocoder-1.38.1 ratelim-0.1.6\n"
     ]
    }
   ],
   "source": [
    "pip install geocoder\n"
   ]
  },
  {
   "cell_type": "code",
   "execution_count": 2,
   "id": "fba765bb",
   "metadata": {},
   "outputs": [],
   "source": [
    "import geocoder"
   ]
  },
  {
   "cell_type": "code",
   "execution_count": 4,
   "id": "d6faf07e",
   "metadata": {},
   "outputs": [
    {
     "name": "stdout",
     "output_type": "stream",
     "text": [
      "Your coordinates are: (28.6519, 77.2315)\n"
     ]
    }
   ],
   "source": [
    "def get_coordinates():\n",
    "    # Get your coordinates using the 'geocoder.ip' function\n",
    "    location = geocoder.ip('me')\n",
    "\n",
    "    # Extract latitude and longitude from the location object\n",
    "    latitude, longitude = location.latlng\n",
    "\n",
    "    return latitude, longitude\n",
    "\n",
    "if __name__ == \"__main__\":\n",
    "    # Get and print your coordinates\n",
    "    coordinates = get_coordinates()\n",
    "    print(f\"Your coordinates are: {coordinates}\")"
   ]
  },
  {
   "cell_type": "code",
   "execution_count": null,
   "id": "bddbfe36",
   "metadata": {},
   "outputs": [],
   "source": []
  },
  {
   "cell_type": "code",
   "execution_count": null,
   "id": "27601970",
   "metadata": {},
   "outputs": [],
   "source": []
  },
  {
   "cell_type": "code",
   "execution_count": null,
   "id": "212bec54",
   "metadata": {},
   "outputs": [],
   "source": []
  }
 ],
 "metadata": {
  "kernelspec": {
   "display_name": "Python 3 (ipykernel)",
   "language": "python",
   "name": "python3"
  },
  "language_info": {
   "codemirror_mode": {
    "name": "ipython",
    "version": 3
   },
   "file_extension": ".py",
   "mimetype": "text/x-python",
   "name": "python",
   "nbconvert_exporter": "python",
   "pygments_lexer": "ipython3",
   "version": "3.11.5"
  }
 },
 "nbformat": 4,
 "nbformat_minor": 5
}
