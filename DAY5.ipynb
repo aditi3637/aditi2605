{
 "cells": [
  {
   "cell_type": "code",
   "execution_count": 1,
   "id": "556e6bc4",
   "metadata": {},
   "outputs": [],
   "source": [
    "import os"
   ]
  },
  {
   "cell_type": "code",
   "execution_count": null,
   "id": "a5688c1c",
   "metadata": {},
   "outputs": [
    {
     "name": "stdout",
     "output_type": "stream",
     "text": [
      "\n",
      "1. notepad\n",
      "2.camera\n",
      "3.mspaint\n",
      "4.calc.exe\n",
      "5.cmd\n",
      "\n"
     ]
    }
   ],
   "source": [
    "print(\"\"\"\n",
    "1. notepad\n",
    "2.camera\n",
    "3.mspaint\n",
    "4.calc.exe\n",
    "5.cmd\n",
    "\"\"\")\n",
    "choice=input()\n",
    "option=int(choice)\n",
    "app_list=[\"notepad\",\"camera\",\"mspaint\",\"calc.exe\",\"cmd\"]\n",
    "os.system(app_list[option-1])"
   ]
  },
  {
   "cell_type": "code",
   "execution_count": null,
   "id": "1666b95a",
   "metadata": {},
   "outputs": [],
   "source": [
    "a=[\"aditi\",\"yadav\",\"ram\",\"sita\"]"
   ]
  },
  {
   "cell_type": "code",
   "execution_count": null,
   "id": "e4ed7555",
   "metadata": {},
   "outputs": [],
   "source": [
    "a"
   ]
  },
  {
   "cell_type": "code",
   "execution_count": null,
   "id": "240cffd6",
   "metadata": {},
   "outputs": [],
   "source": [
    "a[-1]"
   ]
  },
  {
   "cell_type": "code",
   "execution_count": null,
   "id": "0981f531",
   "metadata": {},
   "outputs": [],
   "source": [
    "b=[\" we are creator and innovators \"]"
   ]
  },
  {
   "cell_type": "code",
   "execution_count": null,
   "id": "b6256f68",
   "metadata": {},
   "outputs": [],
   "source": [
    "b"
   ]
  },
  {
   "cell_type": "code",
   "execution_count": null,
   "id": "0b2f9f81",
   "metadata": {},
   "outputs": [],
   "source": [
    "b[-9]"
   ]
  },
  {
   "cell_type": "code",
   "execution_count": null,
   "id": "9eefd438",
   "metadata": {},
   "outputs": [],
   "source": [
    "salary=15\n"
   ]
  },
  {
   "cell_type": "code",
   "execution_count": null,
   "id": "b1efd2d2",
   "metadata": {},
   "outputs": [],
   "source": [
    "salary< 50"
   ]
  },
  {
   "cell_type": "code",
   "execution_count": null,
   "id": "e6ec867a",
   "metadata": {},
   "outputs": [],
   "source": [
    "salary=15\n",
    "\n",
    "if salary >=10\n",
    "    priny(\"i will say ok\")   \n",
    "i won't"
   ]
  },
  {
   "cell_type": "code",
   "execution_count": null,
   "id": "fba765bb",
   "metadata": {},
   "outputs": [],
   "source": []
  },
  {
   "cell_type": "code",
   "execution_count": null,
   "id": "d6faf07e",
   "metadata": {},
   "outputs": [],
   "source": []
  },
  {
   "cell_type": "code",
   "execution_count": null,
   "id": "bddbfe36",
   "metadata": {},
   "outputs": [],
   "source": []
  },
  {
   "cell_type": "code",
   "execution_count": null,
   "id": "27601970",
   "metadata": {},
   "outputs": [],
   "source": []
  },
  {
   "cell_type": "code",
   "execution_count": null,
   "id": "212bec54",
   "metadata": {},
   "outputs": [],
   "source": []
  }
 ],
 "metadata": {
  "kernelspec": {
   "display_name": "Python 3 (ipykernel)",
   "language": "python",
   "name": "python3"
  },
  "language_info": {
   "codemirror_mode": {
    "name": "ipython",
    "version": 3
   },
   "file_extension": ".py",
   "mimetype": "text/x-python",
   "name": "python",
   "nbconvert_exporter": "python",
   "pygments_lexer": "ipython3",
   "version": "3.11.5"
  }
 },
 "nbformat": 4,
 "nbformat_minor": 5
}
