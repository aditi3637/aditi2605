{
 "cells": [
  {
   "cell_type": "code",
   "execution_count": 1,
   "id": "835c2d8a",
   "metadata": {},
   "outputs": [
    {
     "name": "stdout",
     "output_type": "stream",
     "text": [
      "Requirement already satisfied: secure-smtplib in c:\\users\\pc\\anaconda3\\lib\\site-packages (0.1.1)Note: you may need to restart the kernel to use updated packages.\n",
      "\n"
     ]
    }
   ],
   "source": [
    "pip install secure-smtplib"
   ]
  },
  {
   "cell_type": "code",
   "execution_count": 2,
   "id": "f3a2923d",
   "metadata": {},
   "outputs": [],
   "source": [
    "import smtplib\n",
    "from email.mime.text import MIMEText"
   ]
  },
  {
   "cell_type": "code",
   "execution_count": 3,
   "id": "be09619e",
   "metadata": {},
   "outputs": [],
   "source": [
    "msg= MIMEText(\"this email is sent by python\")\n",
    "msg[\"subject\"]=\"generation of code \""
   ]
  },
  {
   "cell_type": "code",
   "execution_count": 4,
   "id": "9ae8cdc4",
   "metadata": {},
   "outputs": [],
   "source": [
    "msg[\"from\"]=\"aditigzp2005@gmail.com\"\n",
    "msg[\"to\"]=\"cutiepie2826@gmail.com\""
   ]
  },
  {
   "cell_type": "code",
   "execution_count": 5,
   "id": "a0645853",
   "metadata": {},
   "outputs": [
    {
     "data": {
      "text/plain": [
       "(220, b'2.0.0 Ready to start TLS')"
      ]
     },
     "execution_count": 5,
     "metadata": {},
     "output_type": "execute_result"
    }
   ],
   "source": [
    "server= smtplib.SMTP(\"smtp.gmail.com\",587)\n",
    "server.starttls()"
   ]
  },
  {
   "cell_type": "code",
   "execution_count": 6,
   "id": "6b05739d",
   "metadata": {},
   "outputs": [
    {
     "data": {
      "text/plain": [
       "(235, b'2.7.0 Accepted')"
      ]
     },
     "execution_count": 6,
     "metadata": {},
     "output_type": "execute_result"
    }
   ],
   "source": [
    "server.login(\"aditigzp2005@gmail.com\",\"lepx kigb xdma wblm\")"
   ]
  },
  {
   "cell_type": "code",
   "execution_count": null,
   "id": "83471394",
   "metadata": {},
   "outputs": [],
   "source": []
  }
 ],
 "metadata": {
  "kernelspec": {
   "display_name": "Python 3 (ipykernel)",
   "language": "python",
   "name": "python3"
  },
  "language_info": {
   "codemirror_mode": {
    "name": "ipython",
    "version": 3
   },
   "file_extension": ".py",
   "mimetype": "text/x-python",
   "name": "python",
   "nbconvert_exporter": "python",
   "pygments_lexer": "ipython3",
   "version": "3.11.5"
  }
 },
 "nbformat": 4,
 "nbformat_minor": 5
}
