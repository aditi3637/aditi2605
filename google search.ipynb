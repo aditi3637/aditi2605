{
 "cells": [
  {
   "cell_type": "code",
   "execution_count": 19,
   "id": "7412a181",
   "metadata": {},
   "outputs": [
    {
     "name": "stdout",
     "output_type": "stream",
     "text": [
      "Enter your query: top 10 search\n"
     ]
    }
   ],
   "source": [
    "import pywhatkit as py\n",
    "search = input(\"Enter your query: \")\n",
    "try:\n",
    "    py.search(search)\n",
    "except:\n",
    "    print(\"Unexpected Error\")"
   ]
  },
  {
   "cell_type": "code",
   "execution_count": null,
   "id": "54a669e6",
   "metadata": {},
   "outputs": [],
   "source": []
  },
  {
   "cell_type": "code",
   "execution_count": null,
   "id": "ae58844f",
   "metadata": {},
   "outputs": [],
   "source": []
  }
 ],
 "metadata": {
  "kernelspec": {
   "display_name": "Python 3 (ipykernel)",
   "language": "python",
   "name": "python3"
  },
  "language_info": {
   "codemirror_mode": {
    "name": "ipython",
    "version": 3
   },
   "file_extension": ".py",
   "mimetype": "text/x-python",
   "name": "python",
   "nbconvert_exporter": "python",
   "pygments_lexer": "ipython3",
   "version": "3.11.5"
  }
 },
 "nbformat": 4,
 "nbformat_minor": 5
}
